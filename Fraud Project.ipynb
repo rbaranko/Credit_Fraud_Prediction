{
 "cells": [
  {
   "cell_type": "markdown",
   "metadata": {},
   "source": [
    "# Predicting Fradulent Credit Card Transactions\n",
    " \n",
    "Data Source: fraud_data.csv | [Kaggle.com](https://www.kaggle.com/isaikumar/creditcardfraud)\n",
    "\n",
    "This project focuses on training several models and evaluate how effectively they predict instances of fraud using data based on this dataset from Kaggle. Each row in fraud_data.csv corresponds to a credit card transaction. Features include confidential variables V1 through V28 as well as Amount which is the amount of the transaction. The target is stored in the class column, where a value of 1 corresponds to an instance of fraud and 0 corresponds to an instance of not fraud. The goal of the project is to compare various ML methods to find the best model and tuning for the dataset."
   ]
  },
  {
   "cell_type": "code",
   "execution_count": 1,
   "metadata": {},
   "outputs": [],
   "source": [
    "import numpy as np\n",
    "import pandas as pd\n",
    "import matplotlib.pyplot as plt\n",
    "import warnings\n",
    "warnings.filterwarnings('ignore')"
   ]
  },
  {
   "cell_type": "markdown",
   "metadata": {},
   "source": [
    "### Step 1: Load and visualize dataset"
   ]
  },
  {
   "cell_type": "code",
   "execution_count": 2,
   "metadata": {},
   "outputs": [
    {
     "data": {
      "text/html": [
       "<div>\n",
       "<style scoped>\n",
       "    .dataframe tbody tr th:only-of-type {\n",
       "        vertical-align: middle;\n",
       "    }\n",
       "\n",
       "    .dataframe tbody tr th {\n",
       "        vertical-align: top;\n",
       "    }\n",
       "\n",
       "    .dataframe thead th {\n",
       "        text-align: right;\n",
       "    }\n",
       "</style>\n",
       "<table border=\"1\" class=\"dataframe\">\n",
       "  <thead>\n",
       "    <tr style=\"text-align: right;\">\n",
       "      <th></th>\n",
       "      <th>V1</th>\n",
       "      <th>V2</th>\n",
       "      <th>V3</th>\n",
       "      <th>V4</th>\n",
       "      <th>V5</th>\n",
       "      <th>V6</th>\n",
       "      <th>V7</th>\n",
       "      <th>V8</th>\n",
       "      <th>V9</th>\n",
       "      <th>V10</th>\n",
       "      <th>...</th>\n",
       "      <th>V21</th>\n",
       "      <th>V22</th>\n",
       "      <th>V23</th>\n",
       "      <th>V24</th>\n",
       "      <th>V25</th>\n",
       "      <th>V26</th>\n",
       "      <th>V27</th>\n",
       "      <th>V28</th>\n",
       "      <th>Amount</th>\n",
       "      <th>Class</th>\n",
       "    </tr>\n",
       "  </thead>\n",
       "  <tbody>\n",
       "    <tr>\n",
       "      <td>0</td>\n",
       "      <td>1.176563</td>\n",
       "      <td>0.323798</td>\n",
       "      <td>0.536927</td>\n",
       "      <td>1.047002</td>\n",
       "      <td>-0.368652</td>\n",
       "      <td>-0.728586</td>\n",
       "      <td>0.084678</td>\n",
       "      <td>-0.069246</td>\n",
       "      <td>-0.266389</td>\n",
       "      <td>0.155315</td>\n",
       "      <td>...</td>\n",
       "      <td>-0.109627</td>\n",
       "      <td>-0.341365</td>\n",
       "      <td>0.057845</td>\n",
       "      <td>0.499180</td>\n",
       "      <td>0.415211</td>\n",
       "      <td>-0.581949</td>\n",
       "      <td>0.015472</td>\n",
       "      <td>0.018065</td>\n",
       "      <td>4.67</td>\n",
       "      <td>0</td>\n",
       "    </tr>\n",
       "    <tr>\n",
       "      <td>1</td>\n",
       "      <td>0.681109</td>\n",
       "      <td>-3.934776</td>\n",
       "      <td>-3.801827</td>\n",
       "      <td>-1.147468</td>\n",
       "      <td>-0.735540</td>\n",
       "      <td>-0.501097</td>\n",
       "      <td>1.038865</td>\n",
       "      <td>-0.626979</td>\n",
       "      <td>-2.274423</td>\n",
       "      <td>1.527782</td>\n",
       "      <td>...</td>\n",
       "      <td>0.652202</td>\n",
       "      <td>0.272684</td>\n",
       "      <td>-0.982151</td>\n",
       "      <td>0.165900</td>\n",
       "      <td>0.360251</td>\n",
       "      <td>0.195321</td>\n",
       "      <td>-0.256273</td>\n",
       "      <td>0.056501</td>\n",
       "      <td>912.00</td>\n",
       "      <td>0</td>\n",
       "    </tr>\n",
       "    <tr>\n",
       "      <td>2</td>\n",
       "      <td>1.140729</td>\n",
       "      <td>0.453484</td>\n",
       "      <td>0.247010</td>\n",
       "      <td>2.383132</td>\n",
       "      <td>0.343287</td>\n",
       "      <td>0.432804</td>\n",
       "      <td>0.093380</td>\n",
       "      <td>0.173310</td>\n",
       "      <td>-0.808999</td>\n",
       "      <td>0.775436</td>\n",
       "      <td>...</td>\n",
       "      <td>-0.003802</td>\n",
       "      <td>0.058556</td>\n",
       "      <td>-0.121177</td>\n",
       "      <td>-0.304215</td>\n",
       "      <td>0.645893</td>\n",
       "      <td>0.122600</td>\n",
       "      <td>-0.012115</td>\n",
       "      <td>-0.005945</td>\n",
       "      <td>1.00</td>\n",
       "      <td>0</td>\n",
       "    </tr>\n",
       "    <tr>\n",
       "      <td>3</td>\n",
       "      <td>-1.107073</td>\n",
       "      <td>-3.298902</td>\n",
       "      <td>-0.184092</td>\n",
       "      <td>-1.795744</td>\n",
       "      <td>2.137564</td>\n",
       "      <td>-1.684992</td>\n",
       "      <td>-2.015606</td>\n",
       "      <td>-0.007181</td>\n",
       "      <td>-0.165760</td>\n",
       "      <td>0.869659</td>\n",
       "      <td>...</td>\n",
       "      <td>0.130648</td>\n",
       "      <td>0.329445</td>\n",
       "      <td>0.927656</td>\n",
       "      <td>-0.049560</td>\n",
       "      <td>-1.892866</td>\n",
       "      <td>-0.575431</td>\n",
       "      <td>0.266573</td>\n",
       "      <td>0.414184</td>\n",
       "      <td>62.10</td>\n",
       "      <td>0</td>\n",
       "    </tr>\n",
       "    <tr>\n",
       "      <td>4</td>\n",
       "      <td>-0.314818</td>\n",
       "      <td>0.866839</td>\n",
       "      <td>-0.124577</td>\n",
       "      <td>-0.627638</td>\n",
       "      <td>2.651762</td>\n",
       "      <td>3.428128</td>\n",
       "      <td>0.194637</td>\n",
       "      <td>0.670674</td>\n",
       "      <td>-0.442658</td>\n",
       "      <td>0.133499</td>\n",
       "      <td>...</td>\n",
       "      <td>-0.312774</td>\n",
       "      <td>-0.799494</td>\n",
       "      <td>-0.064488</td>\n",
       "      <td>0.953062</td>\n",
       "      <td>-0.429550</td>\n",
       "      <td>0.158225</td>\n",
       "      <td>0.076943</td>\n",
       "      <td>-0.015051</td>\n",
       "      <td>2.67</td>\n",
       "      <td>0</td>\n",
       "    </tr>\n",
       "  </tbody>\n",
       "</table>\n",
       "<p>5 rows × 30 columns</p>\n",
       "</div>"
      ],
      "text/plain": [
       "         V1        V2        V3        V4        V5        V6        V7  \\\n",
       "0  1.176563  0.323798  0.536927  1.047002 -0.368652 -0.728586  0.084678   \n",
       "1  0.681109 -3.934776 -3.801827 -1.147468 -0.735540 -0.501097  1.038865   \n",
       "2  1.140729  0.453484  0.247010  2.383132  0.343287  0.432804  0.093380   \n",
       "3 -1.107073 -3.298902 -0.184092 -1.795744  2.137564 -1.684992 -2.015606   \n",
       "4 -0.314818  0.866839 -0.124577 -0.627638  2.651762  3.428128  0.194637   \n",
       "\n",
       "         V8        V9       V10  ...       V21       V22       V23       V24  \\\n",
       "0 -0.069246 -0.266389  0.155315  ... -0.109627 -0.341365  0.057845  0.499180   \n",
       "1 -0.626979 -2.274423  1.527782  ...  0.652202  0.272684 -0.982151  0.165900   \n",
       "2  0.173310 -0.808999  0.775436  ... -0.003802  0.058556 -0.121177 -0.304215   \n",
       "3 -0.007181 -0.165760  0.869659  ...  0.130648  0.329445  0.927656 -0.049560   \n",
       "4  0.670674 -0.442658  0.133499  ... -0.312774 -0.799494 -0.064488  0.953062   \n",
       "\n",
       "        V25       V26       V27       V28  Amount  Class  \n",
       "0  0.415211 -0.581949  0.015472  0.018065    4.67      0  \n",
       "1  0.360251  0.195321 -0.256273  0.056501  912.00      0  \n",
       "2  0.645893  0.122600 -0.012115 -0.005945    1.00      0  \n",
       "3 -1.892866 -0.575431  0.266573  0.414184   62.10      0  \n",
       "4 -0.429550  0.158225  0.076943 -0.015051    2.67      0  \n",
       "\n",
       "[5 rows x 30 columns]"
      ]
     },
     "execution_count": 2,
     "metadata": {},
     "output_type": "execute_result"
    }
   ],
   "source": [
    "df = pd.read_csv('fraud_data.csv')\n",
    "df.head()"
   ]
  },
  {
   "cell_type": "code",
   "execution_count": 3,
   "metadata": {},
   "outputs": [
    {
     "data": {
      "image/png": "[encoded data removed]",
      "text/plain": [
       "<Figure size 432x288 with 1 Axes>"
      ]
     },
     "metadata": {
      "needs_background": "light"
     },
     "output_type": "display_data"
    }
   ],
   "source": [
    "fraud_count = len(df[df['Class'] == 1])\n",
    "no_fraud_count = len(df[df['Class'] == 0])\n",
    "x = np.array(['Not Fraudulent', 'Fraudulent'])\n",
    "y = np.array([no_fraud_count, fraud_count])\n",
    "bars = plt.bar(x, y, align='center', width = 0.75, color='tab:blue')\n",
    "plt.ylabel('Number of instances')\n",
    "for bar in bars:\n",
    "    height = bar.get_height()\n",
    "    plt.gca().text(bar.get_x() + bar.get_width()/2, bar.get_height()+ 52, str(int(height)), \n",
    "                 ha='center', color='black', fontsize=12)\n",
    "plt.show()"
   ]
  },
  {
   "cell_type": "markdown",
   "metadata": {},
   "source": [
    "The data here looks very skewed towards training on many instance of no fraud.  This will be noted as the models are trained and we should expect the models to be better at detecting when fraud does not occur then when fraud does occur (i.e. we can expect when errors occur to be mostly false negatives). False negatives are considered the worst of the two errors as not catching a fraudulent charge is more damaging than breifly freezing an account or investigating into an account that appears to have a fraud charge but does not. This makes using preceision-recall curves more useful than typical area under the curve graphs when we get to tuning the models and the need to prioritize a high recall score as imperative."
   ]
  },
  {
   "cell_type": "markdown",
   "metadata": {},
   "source": [
    "### Step 2: Split and prep data"
   ]
  },
  {
   "cell_type": "code",
   "execution_count": 4,
   "metadata": {},
   "outputs": [],
   "source": [
    "from sklearn.model_selection import train_test_split\n",
    "X = df.iloc[:,:-1]\n",
    "y = df.iloc[:,-1] # class label column\n",
    "X_train, X_test, y_train, y_test = train_test_split(X, y, random_state=0)"
   ]
  },
  {
   "cell_type": "markdown",
   "metadata": {},
   "source": [
    "### Step 3: Train and Test Models"
   ]
  },
  {
   "cell_type": "markdown",
   "metadata": {},
   "source": [
    "#### Model Alpha: Dummy Classifier \n",
    "\n",
    "Model simply predicts the most common classifying label in the training set and applies it to the test samples.  In this case, always predicts the case to be not fraudulent."
   ]
  },
  {
   "cell_type": "code",
   "execution_count": 5,
   "metadata": {},
   "outputs": [
    {
     "name": "stdout",
     "output_type": "stream",
     "text": [
      "The model has an 98.53% accuracy and a recall score of 0.0\n"
     ]
    }
   ],
   "source": [
    "def dummy_class_model():\n",
    "    from sklearn.dummy import DummyClassifier\n",
    "    from sklearn.metrics import recall_score, accuracy_score\n",
    "    dummy_maj = DummyClassifier(strategy = 'most_frequent').fit(X_train, y_train)\n",
    "    dum_predict = dummy_maj.predict(X_test)\n",
    "    a = accuracy_score(y_test, dum_predict)\n",
    "    r = recall_score(y_test, dum_predict)\n",
    "    return round(a*100,2), r\n",
    "acc, recall = dummy_class_model()\n",
    "print('The model has an {}% accuracy and a recall score of {}'.format(acc, recall))"
   ]
  },
  {
   "cell_type": "markdown",
   "metadata": {},
   "source": [
    "The results show that the while the model appears to highly accurate, the skewedness of the data is causing much noise in the efficacy of the model.  We can assume that fraud in the real world occurs very few times versus non-fraud instances; however, the practicality of this model is lacking and most likely is not the best model in practice since it did not accurately predict when a fraud charge happened."
   ]
  },
  {
   "cell_type": "markdown",
   "metadata": {},
   "source": [
    "#### Model Beta: Support Vector Calssifier\n",
    "\n",
    "Model creates a vector that acts as a boundary between the two classes and is defined by returning a hyperplane that best fits the training data in reducing the error term between each point while ahering to generalization limits (in order not to overfit the data)."
   ]
  },
  {
   "cell_type": "code",
   "execution_count": 6,
   "metadata": {},
   "outputs": [
    {
     "name": "stdout",
     "output_type": "stream",
     "text": [
      "[[5344    0]\n",
      " [  50   30]]\n"
     ]
    },
    {
     "data": {
      "text/plain": [
       "(0.9907817109144543, 0.375, 1.0)"
      ]
     },
     "execution_count": 6,
     "metadata": {},
     "output_type": "execute_result"
    }
   ],
   "source": [
    "def SVC_model():\n",
    "    from sklearn.metrics import recall_score, precision_score\n",
    "    from sklearn.metrics import confusion_matrix\n",
    "    from sklearn.svm import SVC\n",
    "    svm = SVC().fit(X_train, y_train)\n",
    "    y_pred = svm.predict(X_test)\n",
    "    con_m = confusion_matrix(y_test, y_pred)\n",
    "    print(con_m)\n",
    "    p = precision_score(y_test, y_pred)\n",
    "    r = recall_score(y_test, y_pred)\n",
    "    a = svm.score(X_test, y_test)\n",
    "    return a, r, p # accuracy, recall score, precision score\n",
    "SVC_model()"
   ]
  },
  {
   "cell_type": "markdown",
   "metadata": {},
   "source": [
    "This model appears to be a much stronger model than our Dummy Classifier Model.  With an accuracy score of 99.08%, its performace is superiors to the general classifier.  The model appears to have zero false positives (earning a precision score of 1.0) but 50 false negatives (with a recall score of 0.375).  If we assume that false negatives are more dangerous than false positives, then we should strive to limit the amount of false negatives and be willing to trade-off forfeiting a perfect false positive score."
   ]
  },
  {
   "cell_type": "markdown",
   "metadata": {},
   "source": [
    "#### Model Gamma: Logistical Regression Classifier\n",
    " Model returns a probability that the datapoint is fraudulent or not (which the cutoff is default 0.5). The first step is to build a baseline model and test its accuracy."
   ]
  },
  {
   "cell_type": "code",
   "execution_count": 7,
   "metadata": {},
   "outputs": [
    {
     "data": {
      "image/png": "[encoded data removed]",
      "text/plain": [
       "<Figure size 432x288 with 1 Axes>"
      ]
     },
     "metadata": {
      "needs_background": "light"
     },
     "output_type": "display_data"
    },
    {
     "name": "stdout",
     "output_type": "stream",
     "text": [
      "Accuracy Score: 0.9964970501474927\n",
      "Precision Score: 0.9692307692307692\n",
      "Recall Score: 0.7875\n",
      "[[5342    2]\n",
      " [  17   63]]\n"
     ]
    }
   ],
   "source": [
    "def LRC_model():\n",
    "    from sklearn.linear_model import LogisticRegression\n",
    "    from sklearn.metrics import precision_recall_curve, accuracy_score, confusion_matrix, precision_score, recall_score\n",
    "    lr = LogisticRegression().fit(X_train, y_train)\n",
    "    y_pred = lr.predict_proba(X_test)\n",
    "    y_est = y_pred[:,1]\n",
    "    y_tested = []\n",
    "    for point in y_est: # convert probabilities to binary labels\n",
    "        if point >= 0.5:\n",
    "            dp = 1\n",
    "        else:\n",
    "            dp = 0\n",
    "        y_tested.append(dp)\n",
    "    score = accuracy_score(y_test, y_tested)\n",
    "    matrix = confusion_matrix(y_test, y_tested)\n",
    "    p_score= precision_score(y_test, y_tested)\n",
    "    r_score = recall_score(y_test, y_tested)\n",
    "    precision, recall, thresholds = precision_recall_curve(y_test, y_est) # build precision recall curve\n",
    "    plt.plot(recall, precision, color='g')\n",
    "    plt.ylabel('Precision Score')\n",
    "    plt.xlabel('Recall Score')\n",
    "    plt.plot(r_score, p_score, color='r', marker='o') # Where on the graph this model variation sits\n",
    "    plt.show()\n",
    "    return score, p_score, r_score, matrix\n",
    "score, p_score, r_score, matrix = LRC_model()\n",
    "print('Accuracy Score: {}'.format(score))\n",
    "print('Precision Score: {}'.format(p_score))\n",
    "print('Recall Score: {}'.format(r_score))\n",
    "print(matrix)\n"
   ]
  },
  {
   "cell_type": "markdown",
   "metadata": {},
   "source": [
    "The baseline model appears to have a fairly high accuracy rate, with only two points being categorized as false positve when the threshold is 0.5.  By looking at the graph, we can see there is a specific point in which we can maximize the area under the curve and both scores can be greater than 0.8 (or at least achieve a greater recall score). Moreover, in comparison to the SVM, we have achieved a higher accuracy rate and a lower false negative rate, thus considering it an even stronger candidate."
   ]
  },
  {
   "cell_type": "markdown",
   "metadata": {},
   "source": [
    "#### Model Delta: Logistic Regression using Grid Search\n",
    "\n",
    "This model utilizes Grid Search to tune hyperparameters to best optimize towards a more accurate model.  Because we want to primarily limit false negatives, the scoring paramter will be set to optimize on the recall metric.  In addition, a penalty will be used and its strength (denoted by C) to help prevent overfitting with 3 cross-fold validation.  Our goal is to find the proper parameters to create the best model optimize on the best recall score that does not forefit much precision or accuracy.\n",
    "\n",
    "The function returns a table of mean recall test scores as acted on by each corresponding penalty and C value.\n",
    "\n"
   ]
  },
  {
   "cell_type": "code",
   "execution_count": 8,
   "metadata": {},
   "outputs": [
    {
     "data": {
      "text/html": [
       "<div>\n",
       "<style scoped>\n",
       "    .dataframe tbody tr th:only-of-type {\n",
       "        vertical-align: middle;\n",
       "    }\n",
       "\n",
       "    .dataframe tbody tr th {\n",
       "        vertical-align: top;\n",
       "    }\n",
       "\n",
       "    .dataframe thead th {\n",
       "        text-align: right;\n",
       "    }\n",
       "</style>\n",
       "<table border=\"1\" class=\"dataframe\">\n",
       "  <thead>\n",
       "    <tr style=\"text-align: right;\">\n",
       "      <th></th>\n",
       "      <th>l1</th>\n",
       "      <th>l2</th>\n",
       "    </tr>\n",
       "    <tr>\n",
       "      <th>C</th>\n",
       "      <th></th>\n",
       "      <th></th>\n",
       "    </tr>\n",
       "  </thead>\n",
       "  <tbody>\n",
       "    <tr>\n",
       "      <td>0.01</td>\n",
       "      <td>0.666667</td>\n",
       "      <td>0.760870</td>\n",
       "    </tr>\n",
       "    <tr>\n",
       "      <td>0.10</td>\n",
       "      <td>0.800725</td>\n",
       "      <td>0.804348</td>\n",
       "    </tr>\n",
       "    <tr>\n",
       "      <td>1.00</td>\n",
       "      <td>0.811594</td>\n",
       "      <td>0.811594</td>\n",
       "    </tr>\n",
       "    <tr>\n",
       "      <td>10.00</td>\n",
       "      <td>0.807971</td>\n",
       "      <td>0.811594</td>\n",
       "    </tr>\n",
       "    <tr>\n",
       "      <td>100.00</td>\n",
       "      <td>0.807971</td>\n",
       "      <td>0.807971</td>\n",
       "    </tr>\n",
       "  </tbody>\n",
       "</table>\n",
       "</div>"
      ],
      "text/plain": [
       "              l1        l2\n",
       "C                         \n",
       "0.01    0.666667  0.760870\n",
       "0.10    0.800725  0.804348\n",
       "1.00    0.811594  0.811594\n",
       "10.00   0.807971  0.811594\n",
       "100.00  0.807971  0.807971"
      ]
     },
     "execution_count": 8,
     "metadata": {},
     "output_type": "execute_result"
    }
   ],
   "source": [
    "def GS_LR_model():    \n",
    "    from sklearn.model_selection import GridSearchCV\n",
    "    from sklearn.linear_model import LogisticRegression\n",
    "    lr = LogisticRegression()\n",
    "    grid_values = {'penalty': ['l1', 'l2'], 'C':[0.01, 0.1, 1, 10, 100]}\n",
    "    grid = GridSearchCV(lr, param_grid=grid_values, scoring='recall',cv=3).fit(X_train, y_train)\n",
    "    grid.decision_function(X_test)\n",
    "    results = grid.cv_results_\n",
    "    scores = results['mean_test_score']\n",
    "    s = scores.reshape(5,2)\n",
    "    df = pd.DataFrame(s)\n",
    "    df['C'] = np.array([0.01, 0.1, 1, 10, 100])\n",
    "    df.set_index('C', inplace=True)\n",
    "    df.rename(columns={0:'l1',1:'l2'},inplace=True)\n",
    "    return df\n",
    "GS_LR_model()"
   ]
  },
  {
   "cell_type": "markdown",
   "metadata": {},
   "source": [
    "The Grid Search returned mean test scores across each combination of tuning parameters and found that a C of 1 in both l1 and l2 variations returned the highest average test score (along with l2 whe C=10). This score finds the parameters that best tune our logistic regression to limiting false negatives."
   ]
  },
  {
   "cell_type": "markdown",
   "metadata": {},
   "source": [
    "#### Model Epsilon: Tuned Logistic Regression"
   ]
  },
  {
   "cell_type": "code",
   "execution_count": 9,
   "metadata": {},
   "outputs": [
    {
     "data": {
      "image/png": "[encoded data removed]",
      "text/plain": [
       "<Figure size 432x288 with 1 Axes>"
      ]
     },
     "metadata": {
      "needs_background": "light"
     },
     "output_type": "display_data"
    },
    {
     "name": "stdout",
     "output_type": "stream",
     "text": [
      "Accuracy Score: 0.9966814159292036\n",
      "Precision Score: 0.9696969696969697\n",
      "Recall Score: 0.8\n",
      "[[5342    2]\n",
      " [  16   64]]\n"
     ]
    }
   ],
   "source": [
    "def tuned_LR():\n",
    "    from sklearn.linear_model import LogisticRegression\n",
    "    from sklearn.metrics import precision_recall_curve, accuracy_score, confusion_matrix, precision_score, recall_score\n",
    "    lr = LogisticRegression().fit(X_train, y_train)\n",
    "    lr = LogisticRegression(penalty='l2', C=10).fit(X_train, y_train) # used l2 as it had more highest mean scores than l1\n",
    "    y_pred = lr.predict_proba(X_test)\n",
    "    y_est = y_pred[:,1]\n",
    "    y_tested = []\n",
    "    for point in y_est: # converts to binary class labels\n",
    "        if point >= 0.5:\n",
    "            dp = 1\n",
    "        else:\n",
    "            dp = 0\n",
    "        y_tested.append(dp)\n",
    "    score = accuracy_score(y_test, y_tested)\n",
    "    matrix = confusion_matrix(y_test, y_tested)\n",
    "    p_score= precision_score(y_test, y_tested)\n",
    "    r_score = recall_score(y_test, y_tested)\n",
    "    precision, recall, thresholds = precision_recall_curve(y_test, y_est) # build precision recall curve\n",
    "    plt.plot(recall, precision, color='g')\n",
    "    plt.ylabel('Precision Score')\n",
    "    plt.xlabel('Recall Score')\n",
    "    plt.plot(r_score, p_score, color='r', marker='o') # Where on the graph this model variation sits\n",
    "    plt.show()\n",
    "    return score, p_score, r_score, matrix\n",
    "Score, P_score, R_score, Matrix = tuned_LR()\n",
    "print('Accuracy Score: {}'.format(Score))\n",
    "print('Precision Score: {}'.format(P_score))\n",
    "print('Recall Score: {}'.format(R_score))\n",
    "print(Matrix)\n"
   ]
  },
  {
   "cell_type": "markdown",
   "metadata": {},
   "source": [
    "Conclusion:\n",
    "\n",
    "The tuning found a slightly better version of the model than the original regression, improving our false negative score by one case. Meanwhile, our precision score and accuracy Score also imporved marginally.  Thus, we can conclude that this tuned logistic regression is best sutied for the data provided and predicting cases of credit card fraud.  "
   ]
  },
  {
   "cell_type": "markdown",
   "metadata": {},
   "source": [
    "### Step 4: Build out visualization of Final Model\n",
    "\n",
    "Written out formula representing our best model in the project"
   ]
  },
  {
   "cell_type": "code",
   "execution_count": 10,
   "metadata": {},
   "outputs": [
    {
     "name": "stdout",
     "output_type": "stream",
     "text": [
      "P(fraud) = 0.146V1 + -0.015V2 + -0.03V3 + 0.776V4 + 0.124V5 + -0.206V6 + -0.122V7 + -0.295V8 + -0.156V9 + -0.527V10 + 0.376V11 + -0.363V12 + -0.259V13 + -0.823V14 + -0.255V15 + -0.229V16 + -0.019V17 + -0.201V18 + 0.011V19 + -0.246V20 + 0.272V21 + 0.532V22 + -0.072V23 + 0.215V24 + 0.092V25 + -0.54V26 + -0.375V27 + -0.069V28 + 0.001Amount\n"
     ]
    }
   ],
   "source": [
    "def equation_builder():\n",
    "    from sklearn.linear_model import LogisticRegression\n",
    "    lr = LogisticRegression().fit(X_train, y_train)\n",
    "    lr = LogisticRegression(penalty='l2', C=10).fit(X_train, y_train)\n",
    "    combo = zip(df.columns[:-1], lr.coef_[0]) # remove last classification label column from df\n",
    "    e = 'P(fraud) = '\n",
    "    for feature in combo:\n",
    "        f = str(round(feature[1],3)) + feature[0]\n",
    "        e += f + ' + '\n",
    "    e = e[:-3]\n",
    "    print(e)\n",
    "equation_builder()"
   ]
  },
  {
   "cell_type": "code",
   "execution_count": null,
   "metadata": {},
   "outputs": [],
   "source": []
  },
  {
   "cell_type": "code",
   "execution_count": null,
   "metadata": {},
   "outputs": [],
   "source": []
  }
 ],
 "metadata": {
  "kernelspec": {
   "display_name": "Python 3",
   "language": "python",
   "name": "python3"
  },
  "language_info": {
   "codemirror_mode": {
    "name": "ipython",
    "version": 3
   },
   "file_extension": ".py",
   "mimetype": "text/x-python",
   "name": "python",
   "nbconvert_exporter": "python",
   "pygments_lexer": "ipython3",
   "version": "3.7.4"
  }
 },
 "nbformat": 4,
 "nbformat_minor": 2
}
